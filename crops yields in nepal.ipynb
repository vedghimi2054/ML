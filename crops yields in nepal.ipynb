{
 "cells": [
  {
   "cell_type": "code",
   "execution_count": 1,
   "id": "f8de2931",
   "metadata": {},
   "outputs": [],
   "source": [
    "import pandas as pd\n",
    "read=pd.read_csv('Area, production and yield of cash crops in Nepal.csv')"
   ]
  },
  {
   "cell_type": "code",
   "execution_count": 5,
   "id": "2606cc1e",
   "metadata": {},
   "outputs": [
    {
     "data": {
      "text/html": [
       "<div>\n",
       "<style scoped>\n",
       "    .dataframe tbody tr th:only-of-type {\n",
       "        vertical-align: middle;\n",
       "    }\n",
       "\n",
       "    .dataframe tbody tr th {\n",
       "        vertical-align: top;\n",
       "    }\n",
       "\n",
       "    .dataframe thead th {\n",
       "        text-align: right;\n",
       "    }\n",
       "</style>\n",
       "<table border=\"1\" class=\"dataframe\">\n",
       "  <thead>\n",
       "    <tr style=\"text-align: right;\">\n",
       "      <th></th>\n",
       "      <th>Year AD</th>\n",
       "      <th>Year BS</th>\n",
       "      <th>Crop</th>\n",
       "      <th>Area</th>\n",
       "      <th>Production</th>\n",
       "      <th>Yield</th>\n",
       "    </tr>\n",
       "  </thead>\n",
       "  <tbody>\n",
       "    <tr>\n",
       "      <th>100</th>\n",
       "      <td>2000/2001</td>\n",
       "      <td>2057/58</td>\n",
       "      <td>JUTE</td>\n",
       "      <td>11289</td>\n",
       "      <td>16392</td>\n",
       "      <td>1452</td>\n",
       "    </tr>\n",
       "    <tr>\n",
       "      <th>101</th>\n",
       "      <td>2001/2002</td>\n",
       "      <td>2058/59</td>\n",
       "      <td>JUTE</td>\n",
       "      <td>11000</td>\n",
       "      <td>16000</td>\n",
       "      <td>1455</td>\n",
       "    </tr>\n",
       "    <tr>\n",
       "      <th>102</th>\n",
       "      <td>2002/2003</td>\n",
       "      <td>2059/60</td>\n",
       "      <td>JUTE</td>\n",
       "      <td>11851</td>\n",
       "      <td>17035</td>\n",
       "      <td>1437</td>\n",
       "    </tr>\n",
       "    <tr>\n",
       "      <th>103</th>\n",
       "      <td>2003/2004</td>\n",
       "      <td>2060/61</td>\n",
       "      <td>JUTE</td>\n",
       "      <td>11790</td>\n",
       "      <td>16890</td>\n",
       "      <td>1433</td>\n",
       "    </tr>\n",
       "    <tr>\n",
       "      <th>104</th>\n",
       "      <td>2004/2005</td>\n",
       "      <td>2061/62</td>\n",
       "      <td>JUTE</td>\n",
       "      <td>11159</td>\n",
       "      <td>16207</td>\n",
       "      <td>1452</td>\n",
       "    </tr>\n",
       "  </tbody>\n",
       "</table>\n",
       "</div>"
      ],
      "text/plain": [
       "       Year AD  Year BS  Crop   Area  Production  Yield\n",
       "100  2000/2001  2057/58  JUTE  11289       16392   1452\n",
       "101  2001/2002  2058/59  JUTE  11000       16000   1455\n",
       "102  2002/2003  2059/60  JUTE  11851       17035   1437\n",
       "103  2003/2004  2060/61  JUTE  11790       16890   1433\n",
       "104  2004/2005  2061/62  JUTE  11159       16207   1452"
      ]
     },
     "execution_count": 5,
     "metadata": {},
     "output_type": "execute_result"
    }
   ],
   "source": [
    "read.tail()"
   ]
  },
  {
   "cell_type": "code",
   "execution_count": 4,
   "id": "78aebc07",
   "metadata": {},
   "outputs": [
    {
     "data": {
      "text/plain": [
       "105"
      ]
     },
     "execution_count": 4,
     "metadata": {},
     "output_type": "execute_result"
    }
   ],
   "source": [
    "len(read)"
   ]
  },
  {
   "cell_type": "code",
   "execution_count": 15,
   "id": "44a35ac0",
   "metadata": {
    "scrolled": false
   },
   "outputs": [],
   "source": [
    "# dir(read)"
   ]
  },
  {
   "cell_type": "code",
   "execution_count": 8,
   "id": "30e99016",
   "metadata": {},
   "outputs": [
    {
     "data": {
      "text/plain": [
       "(105,)"
      ]
     },
     "execution_count": 8,
     "metadata": {},
     "output_type": "execute_result"
    }
   ],
   "source": [
    "read.Crop.shape"
   ]
  },
  {
   "cell_type": "code",
   "execution_count": null,
   "id": "ebb2dab5",
   "metadata": {},
   "outputs": [],
   "source": []
  },
  {
   "cell_type": "code",
   "execution_count": 9,
   "id": "3f849f77",
   "metadata": {},
   "outputs": [
    {
     "data": {
      "text/plain": [
       "0      127820\n",
       "1      137920\n",
       "2      142890\n",
       "3      151490\n",
       "4      154860\n",
       "        ...  \n",
       "100     11289\n",
       "101     11000\n",
       "102     11851\n",
       "103     11790\n",
       "104     11159\n",
       "Name: Area, Length: 105, dtype: int64"
      ]
     },
     "execution_count": 9,
     "metadata": {},
     "output_type": "execute_result"
    }
   ],
   "source": [
    "read.Area"
   ]
  },
  {
   "cell_type": "code",
   "execution_count": 10,
   "id": "85abc47b",
   "metadata": {},
   "outputs": [
    {
     "data": {
      "text/plain": [
       "0      84030\n",
       "1      78390\n",
       "2      82500\n",
       "3      94370\n",
       "4      99190\n",
       "       ...  \n",
       "100    16392\n",
       "101    16000\n",
       "102    17035\n",
       "103    16890\n",
       "104    16207\n",
       "Name: Production, Length: 105, dtype: int64"
      ]
     },
     "execution_count": 10,
     "metadata": {},
     "output_type": "execute_result"
    }
   ],
   "source": [
    "read.Production"
   ]
  },
  {
   "cell_type": "code",
   "execution_count": 14,
   "id": "2069c099",
   "metadata": {},
   "outputs": [
    {
     "data": {
      "text/html": [
       "<div>\n",
       "<style scoped>\n",
       "    .dataframe tbody tr th:only-of-type {\n",
       "        vertical-align: middle;\n",
       "    }\n",
       "\n",
       "    .dataframe tbody tr th {\n",
       "        vertical-align: top;\n",
       "    }\n",
       "\n",
       "    .dataframe thead th {\n",
       "        text-align: right;\n",
       "    }\n",
       "</style>\n",
       "<table border=\"1\" class=\"dataframe\">\n",
       "  <thead>\n",
       "    <tr style=\"text-align: right;\">\n",
       "      <th></th>\n",
       "      <th>0</th>\n",
       "      <th>1</th>\n",
       "      <th>2</th>\n",
       "      <th>3</th>\n",
       "      <th>4</th>\n",
       "      <th>5</th>\n",
       "      <th>6</th>\n",
       "      <th>7</th>\n",
       "      <th>8</th>\n",
       "      <th>9</th>\n",
       "      <th>...</th>\n",
       "      <th>95</th>\n",
       "      <th>96</th>\n",
       "      <th>97</th>\n",
       "      <th>98</th>\n",
       "      <th>99</th>\n",
       "      <th>100</th>\n",
       "      <th>101</th>\n",
       "      <th>102</th>\n",
       "      <th>103</th>\n",
       "      <th>104</th>\n",
       "    </tr>\n",
       "  </thead>\n",
       "  <tbody>\n",
       "    <tr>\n",
       "      <th>Year AD</th>\n",
       "      <td>1984/85</td>\n",
       "      <td>1985/86</td>\n",
       "      <td>1986/87</td>\n",
       "      <td>1987/88</td>\n",
       "      <td>1988/89</td>\n",
       "      <td>1989/90</td>\n",
       "      <td>1990/91</td>\n",
       "      <td>1991/92</td>\n",
       "      <td>1992/93</td>\n",
       "      <td>1993/94</td>\n",
       "      <td>...</td>\n",
       "      <td>1995/96</td>\n",
       "      <td>1996/97</td>\n",
       "      <td>1997/98</td>\n",
       "      <td>1998/99</td>\n",
       "      <td>1999/2000</td>\n",
       "      <td>2000/2001</td>\n",
       "      <td>2001/2002</td>\n",
       "      <td>2002/2003</td>\n",
       "      <td>2003/2004</td>\n",
       "      <td>2004/2005</td>\n",
       "    </tr>\n",
       "    <tr>\n",
       "      <th>Year BS</th>\n",
       "      <td>2041/42</td>\n",
       "      <td>2042/43</td>\n",
       "      <td>2043/44</td>\n",
       "      <td>2044/45</td>\n",
       "      <td>2045/46</td>\n",
       "      <td>2046/47</td>\n",
       "      <td>2047/48</td>\n",
       "      <td>2048/49</td>\n",
       "      <td>2049/50</td>\n",
       "      <td>2050/51</td>\n",
       "      <td>...</td>\n",
       "      <td>2052/53</td>\n",
       "      <td>2053/54</td>\n",
       "      <td>2054/55</td>\n",
       "      <td>2055/56</td>\n",
       "      <td>2056/57</td>\n",
       "      <td>2057/58</td>\n",
       "      <td>2058/59</td>\n",
       "      <td>2059/60</td>\n",
       "      <td>2060/61</td>\n",
       "      <td>2061/62</td>\n",
       "    </tr>\n",
       "    <tr>\n",
       "      <th>Crop</th>\n",
       "      <td>OILSEED</td>\n",
       "      <td>OILSEED</td>\n",
       "      <td>OILSEED</td>\n",
       "      <td>OILSEED</td>\n",
       "      <td>OILSEED</td>\n",
       "      <td>OILSEED</td>\n",
       "      <td>OILSEED</td>\n",
       "      <td>OILSEED</td>\n",
       "      <td>OILSEED</td>\n",
       "      <td>OILSEED</td>\n",
       "      <td>...</td>\n",
       "      <td>JUTE</td>\n",
       "      <td>JUTE</td>\n",
       "      <td>JUTE</td>\n",
       "      <td>JUTE</td>\n",
       "      <td>JUTE</td>\n",
       "      <td>JUTE</td>\n",
       "      <td>JUTE</td>\n",
       "      <td>JUTE</td>\n",
       "      <td>JUTE</td>\n",
       "      <td>JUTE</td>\n",
       "    </tr>\n",
       "    <tr>\n",
       "      <th>Area</th>\n",
       "      <td>127820</td>\n",
       "      <td>137920</td>\n",
       "      <td>142890</td>\n",
       "      <td>151490</td>\n",
       "      <td>154860</td>\n",
       "      <td>153660</td>\n",
       "      <td>156310</td>\n",
       "      <td>154570</td>\n",
       "      <td>165240</td>\n",
       "      <td>177486</td>\n",
       "      <td>...</td>\n",
       "      <td>11150</td>\n",
       "      <td>11000</td>\n",
       "      <td>12265</td>\n",
       "      <td>11675</td>\n",
       "      <td>14535</td>\n",
       "      <td>11289</td>\n",
       "      <td>11000</td>\n",
       "      <td>11851</td>\n",
       "      <td>11790</td>\n",
       "      <td>11159</td>\n",
       "    </tr>\n",
       "    <tr>\n",
       "      <th>Production</th>\n",
       "      <td>84030</td>\n",
       "      <td>78390</td>\n",
       "      <td>82500</td>\n",
       "      <td>94370</td>\n",
       "      <td>99190</td>\n",
       "      <td>98060</td>\n",
       "      <td>92140</td>\n",
       "      <td>87840</td>\n",
       "      <td>93690</td>\n",
       "      <td>107535</td>\n",
       "      <td>...</td>\n",
       "      <td>14950</td>\n",
       "      <td>14000</td>\n",
       "      <td>15545</td>\n",
       "      <td>15195</td>\n",
       "      <td>15175</td>\n",
       "      <td>16392</td>\n",
       "      <td>16000</td>\n",
       "      <td>17035</td>\n",
       "      <td>16890</td>\n",
       "      <td>16207</td>\n",
       "    </tr>\n",
       "    <tr>\n",
       "      <th>Yield</th>\n",
       "      <td>657</td>\n",
       "      <td>568</td>\n",
       "      <td>577</td>\n",
       "      <td>623</td>\n",
       "      <td>641</td>\n",
       "      <td>638</td>\n",
       "      <td>589</td>\n",
       "      <td>568</td>\n",
       "      <td>567</td>\n",
       "      <td>606</td>\n",
       "      <td>...</td>\n",
       "      <td>1341</td>\n",
       "      <td>1273</td>\n",
       "      <td>1267</td>\n",
       "      <td>1301</td>\n",
       "      <td>1044</td>\n",
       "      <td>1452</td>\n",
       "      <td>1455</td>\n",
       "      <td>1437</td>\n",
       "      <td>1433</td>\n",
       "      <td>1452</td>\n",
       "    </tr>\n",
       "  </tbody>\n",
       "</table>\n",
       "<p>6 rows × 105 columns</p>\n",
       "</div>"
      ],
      "text/plain": [
       "                0        1        2        3        4        5        6    \\\n",
       "Year AD     1984/85  1985/86  1986/87  1987/88  1988/89  1989/90  1990/91   \n",
       "Year BS     2041/42  2042/43  2043/44  2044/45  2045/46  2046/47  2047/48   \n",
       "Crop        OILSEED  OILSEED  OILSEED  OILSEED  OILSEED  OILSEED  OILSEED   \n",
       "Area         127820   137920   142890   151490   154860   153660   156310   \n",
       "Production    84030    78390    82500    94370    99190    98060    92140   \n",
       "Yield           657      568      577      623      641      638      589   \n",
       "\n",
       "                7        8        9    ...      95       96       97   \\\n",
       "Year AD     1991/92  1992/93  1993/94  ...  1995/96  1996/97  1997/98   \n",
       "Year BS     2048/49  2049/50  2050/51  ...  2052/53  2053/54  2054/55   \n",
       "Crop        OILSEED  OILSEED  OILSEED  ...     JUTE     JUTE     JUTE   \n",
       "Area         154570   165240   177486  ...    11150    11000    12265   \n",
       "Production    87840    93690   107535  ...    14950    14000    15545   \n",
       "Yield           568      567      606  ...     1341     1273     1267   \n",
       "\n",
       "                98         99         100        101        102        103  \\\n",
       "Year AD     1998/99  1999/2000  2000/2001  2001/2002  2002/2003  2003/2004   \n",
       "Year BS     2055/56    2056/57    2057/58    2058/59    2059/60    2060/61   \n",
       "Crop           JUTE       JUTE       JUTE       JUTE       JUTE       JUTE   \n",
       "Area          11675      14535      11289      11000      11851      11790   \n",
       "Production    15195      15175      16392      16000      17035      16890   \n",
       "Yield          1301       1044       1452       1455       1437       1433   \n",
       "\n",
       "                  104  \n",
       "Year AD     2004/2005  \n",
       "Year BS       2061/62  \n",
       "Crop             JUTE  \n",
       "Area            11159  \n",
       "Production      16207  \n",
       "Yield            1452  \n",
       "\n",
       "[6 rows x 105 columns]"
      ]
     },
     "execution_count": 14,
     "metadata": {},
     "output_type": "execute_result"
    }
   ],
   "source": [
    "read.T"
   ]
  },
  {
   "cell_type": "code",
   "execution_count": 16,
   "id": "a8d65231",
   "metadata": {},
   "outputs": [],
   "source": [
    "from matplotlib import pyplot as plt\n",
    "%matplotlib inline"
   ]
  },
  {
   "cell_type": "code",
   "execution_count": null,
   "id": "51d046a9",
   "metadata": {},
   "outputs": [],
   "source": [
    "plt.df(df[''])"
   ]
  }
 ],
 "metadata": {
  "kernelspec": {
   "display_name": "Python 3",
   "language": "python",
   "name": "python3"
  },
  "language_info": {
   "codemirror_mode": {
    "name": "ipython",
    "version": 3
   },
   "file_extension": ".py",
   "mimetype": "text/x-python",
   "name": "python",
   "nbconvert_exporter": "python",
   "pygments_lexer": "ipython3",
   "version": "3.8.8"
  }
 },
 "nbformat": 4,
 "nbformat_minor": 5
}
